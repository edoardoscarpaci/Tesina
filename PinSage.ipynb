{
 "cells": [
  {
   "cell_type": "code",
   "execution_count": 5,
   "id": "e04b53ef",
   "metadata": {},
   "outputs": [],
   "source": [
    "import dgl\n",
    "import tensorflow as tf\n",
    "g = dgl.load_graphs(\"graph\")[0][0].to(\"/gpu:0\")\n",
    "g = g.int()"
   ]
  },
  {
   "cell_type": "code",
   "execution_count": 6,
   "id": "0102e31f",
   "metadata": {},
   "outputs": [],
   "source": [
    "sampler = dgl.sampling.PinSAGESampler(g,\"recipe\",\"ingredient\",3, 0.5, 2, 1)"
   ]
  },
  {
   "cell_type": "code",
   "execution_count": null,
   "id": "5867f6a1",
   "metadata": {},
   "outputs": [],
   "source": [
    "with tf.device(\"/gpu:0\"):\n",
    "    seed = tf.constant([0,],dtype=\"int32\")\n",
    "    print(sampler(seed))"
   ]
  },
  {
   "cell_type": "code",
   "execution_count": null,
   "id": "2df64546",
   "metadata": {},
   "outputs": [],
   "source": []
  }
 ],
 "metadata": {
  "kernelspec": {
   "display_name": "Python 3 (ipykernel)",
   "language": "python",
   "name": "python3"
  },
  "language_info": {
   "codemirror_mode": {
    "name": "ipython",
    "version": 3
   },
   "file_extension": ".py",
   "mimetype": "text/x-python",
   "name": "python",
   "nbconvert_exporter": "python",
   "pygments_lexer": "ipython3",
   "version": "3.7.13"
  }
 },
 "nbformat": 4,
 "nbformat_minor": 5
}
