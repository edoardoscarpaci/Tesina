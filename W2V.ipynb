{
 "cells": [
  {
   "cell_type": "code",
   "execution_count": null,
   "id": "be23d4b0",
   "metadata": {},
   "outputs": [],
   "source": [
    "from gensim.models import Word2Vec\n",
    "import pandas as pd\n",
    "import logging\n",
    "import nltk\n",
    "from nltk.tokenize import sent_tokenize, word_tokenize\n",
    "from nltk.corpus import stopwords\n",
    "from tqdm import tqdm\n",
    "logging.basicConfig(format='%(asctime)s : %(levelname)s : %(message)s', level=logging.INFO)\n",
    "percent_usage = 1\n",
    "nltk.download('punkt')\n",
    "nltk.download('stopwords')"
   ]
  },
  {
   "cell_type": "code",
   "execution_count": null,
   "id": "ce965184",
   "metadata": {},
   "outputs": [],
   "source": [
    "dataset = pd.read_csv('data/RecipeNLG_dataset.csv',index_col=[0])"
   ]
  },
  {
   "cell_type": "code",
   "execution_count": null,
   "id": "f7759596",
   "metadata": {},
   "outputs": [],
   "source": [
    "dataset = dataset.drop([\"ingredients\",\"link\",\"source\",\"NER\"],axis=1)"
   ]
  },
  {
   "cell_type": "code",
   "execution_count": null,
   "id": "444d6fd8",
   "metadata": {},
   "outputs": [],
   "source": [
    "print(dataset.shape)\n",
    "count , _ =  dataset.shape\n",
    "count_after = int(count*percent_usage)\n",
    "dataset = dataset.iloc[:count_after]\n",
    "print(dataset.shape)"
   ]
  },
  {
   "cell_type": "code",
   "execution_count": null,
   "id": "fb86a81c",
   "metadata": {},
   "outputs": [],
   "source": [
    "stop_words = set(stopwords.words('english'))\n",
    "\n",
    "def cleanText(texts):\n",
    "    sentences = []\n",
    "    for idx in tqdm(range(len(texts))):\n",
    "        for each_sent in sent_tokenize(str(texts[idx])):\n",
    "            temp_sent = []\n",
    "            each_sent = each_sent.lower().replace(\".\",\"\").replace(\",\",\"\").replace(\"'\",\"\")\n",
    "            for each_word in each_sent.split():\n",
    "                if each_word not in stop_words and len(each_word)>= 3:\n",
    "                    temp_sent.append(each_word)\n",
    "            sentences.append(temp_sent)\n",
    "    return sentences"
   ]
  },
  {
   "cell_type": "code",
   "execution_count": null,
   "id": "06f2ca40",
   "metadata": {},
   "outputs": [],
   "source": [
    "from ast import literal_eval\n",
    "dataset[\"directions\"] = dataset[\"directions\"].apply(literal_eval)"
   ]
  },
  {
   "cell_type": "code",
   "execution_count": null,
   "id": "515ed9bd",
   "metadata": {},
   "outputs": [],
   "source": [
    "dataset[\"directions\"] = dataset[\"directions\"].map(cleanText)"
   ]
  },
  {
   "cell_type": "code",
   "execution_count": null,
   "id": "48374d9f",
   "metadata": {},
   "outputs": [],
   "source": [
    "dataset.info()"
   ]
  },
  {
   "cell_type": "code",
   "execution_count": null,
   "id": "d7838518",
   "metadata": {},
   "outputs": [],
   "source": [
    "model = Word2Vec(vector_size=100, window=5, min_count=1, workers=4)\n",
    "documents = list(dataset[\"directions\"])"
   ]
  },
  {
   "cell_type": "code",
   "execution_count": null,
   "id": "7998f662",
   "metadata": {},
   "outputs": [],
   "source": [
    "model.build_vocab(documents,progress_per=10000)"
   ]
  },
  {
   "cell_type": "code",
   "execution_count": null,
   "id": "e70f678c",
   "metadata": {},
   "outputs": [],
   "source": [
    "model.train(documents,epochs=10)"
   ]
  },
  {
   "cell_type": "code",
   "execution_count": null,
   "id": "dad026b0",
   "metadata": {},
   "outputs": [],
   "source": [
    "model.save(\"w2v_model\")"
   ]
  },
  {
   "cell_type": "code",
   "execution_count": null,
   "id": "cdb7b1e6",
   "metadata": {},
   "outputs": [],
   "source": [
    "model = Word2Vec.load(\"w2v_model\")"
   ]
  },
  {
   "cell_type": "code",
   "execution_count": null,
   "id": "7114ec37",
   "metadata": {},
   "outputs": [],
   "source": [
    "model.wv.most_similar('grill', topn=10)"
   ]
  },
  {
   "cell_type": "code",
   "execution_count": null,
   "id": "731fef40",
   "metadata": {},
   "outputs": [],
   "source": [
    "model.wv.key_to_index\n"
   ]
  },
  {
   "cell_type": "code",
   "execution_count": null,
   "id": "0b290347",
   "metadata": {},
   "outputs": [],
   "source": []
  }
 ],
 "metadata": {
  "kernelspec": {
   "display_name": "Python 3 (ipykernel)",
   "language": "python",
   "name": "python3"
  },
  "language_info": {
   "codemirror_mode": {
    "name": "ipython",
    "version": 3
   },
   "file_extension": ".py",
   "mimetype": "text/x-python",
   "name": "python",
   "nbconvert_exporter": "python",
   "pygments_lexer": "ipython3",
   "version": "3.7.13"
  }
 },
 "nbformat": 4,
 "nbformat_minor": 5
}
